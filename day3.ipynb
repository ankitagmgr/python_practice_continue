{
 "cells": [
  {
   "cell_type": "code",
   "execution_count": 1,
   "id": "2282b07f-8914-49c8-ab6d-67dd3500bd17",
   "metadata": {},
   "outputs": [
    {
     "name": "stdout",
     "output_type": "stream",
     "text": [
      "{1, 2, 34, 55}\n"
     ]
    }
   ],
   "source": [
    "#1.Create a set and print it.\n",
    "\n",
    "def create_set(set1):\n",
    "    return set1\n",
    "print(create_set({1,2,34,55}))"
   ]
  },
  {
   "cell_type": "code",
   "execution_count": 2,
   "id": "3dee273d-2463-4293-ab79-e13e427def89",
   "metadata": {},
   "outputs": [
    {
     "name": "stdout",
     "output_type": "stream",
     "text": [
      "4\n"
     ]
    }
   ],
   "source": [
    "#2.Find the length of a set.\n",
    "\n",
    "def create_set(set1):\n",
    "    return len(set1)\n",
    "print(create_set({1,2,34,55}))"
   ]
  },
  {
   "cell_type": "code",
   "execution_count": 3,
   "id": "a40a1dee-244b-48b9-9322-a26e5d6f210a",
   "metadata": {},
   "outputs": [
    {
     "name": "stdout",
     "output_type": "stream",
     "text": [
      "{1, 2, 6, 7, 8}\n"
     ]
    }
   ],
   "source": [
    "#3.Add an element to a set.\n",
    "\n",
    "def add_element(numbers):\n",
    "    numbers.add(2)\n",
    "    return numbers\n",
    "print(add_element({1,6,7,8}))"
   ]
  },
  {
   "cell_type": "code",
   "execution_count": 11,
   "id": "2026c900-9445-4151-9252-b98ebee427d8",
   "metadata": {},
   "outputs": [
    {
     "name": "stdout",
     "output_type": "stream",
     "text": [
      "{1, 2, 3, 4, 6, 7}\n"
     ]
    }
   ],
   "source": [
    "#4.Add multiple elements to a set.\n",
    "\n",
    "def add_multiple(number):\n",
    "    number.update([1,2])\n",
    "    return number\n",
    "print(add_multiple({3,4,6,7}))"
   ]
  },
  {
   "cell_type": "code",
   "execution_count": 12,
   "id": "c1a630f4-5849-4fb0-b463-53433a8e9b99",
   "metadata": {},
   "outputs": [
    {
     "name": "stdout",
     "output_type": "stream",
     "text": [
      "{3, 4, 5, 6}\n"
     ]
    }
   ],
   "source": [
    "#5.Remove an element from a set (using remove() and discard()).\n",
    "\n",
    "def remove_element(number):\n",
    "    number.remove(2)\n",
    "    return number\n",
    "print(remove_element({2,3,4,5,6}))"
   ]
  },
  {
   "cell_type": "code",
   "execution_count": 14,
   "id": "21bf60a7-2bae-468d-afc9-9a82135a74b8",
   "metadata": {},
   "outputs": [
    {
     "ename": "KeyError",
     "evalue": "1",
     "output_type": "error",
     "traceback": [
      "\u001b[0;31m---------------------------------------------------------------------------\u001b[0m",
      "\u001b[0;31mKeyError\u001b[0m                                  Traceback (most recent call last)",
      "Cell \u001b[0;32mIn[14], line 4\u001b[0m\n\u001b[1;32m      2\u001b[0m     number\u001b[38;5;241m.\u001b[39mremove(\u001b[38;5;241m1\u001b[39m) \u001b[38;5;66;03m#give error\u001b[39;00m\n\u001b[1;32m      3\u001b[0m     \u001b[38;5;28;01mreturn\u001b[39;00m number\n\u001b[0;32m----> 4\u001b[0m \u001b[38;5;28mprint\u001b[39m(\u001b[43mremove_element\u001b[49m\u001b[43m(\u001b[49m\u001b[43m{\u001b[49m\u001b[38;5;241;43m2\u001b[39;49m\u001b[43m,\u001b[49m\u001b[38;5;241;43m3\u001b[39;49m\u001b[43m,\u001b[49m\u001b[38;5;241;43m4\u001b[39;49m\u001b[43m,\u001b[49m\u001b[38;5;241;43m5\u001b[39;49m\u001b[43m,\u001b[49m\u001b[38;5;241;43m6\u001b[39;49m\u001b[43m}\u001b[49m\u001b[43m)\u001b[49m)\n",
      "Cell \u001b[0;32mIn[14], line 2\u001b[0m, in \u001b[0;36mremove_element\u001b[0;34m(number)\u001b[0m\n\u001b[1;32m      1\u001b[0m \u001b[38;5;28;01mdef\u001b[39;00m\u001b[38;5;250m \u001b[39m\u001b[38;5;21mremove_element\u001b[39m(number):\n\u001b[0;32m----> 2\u001b[0m     \u001b[43mnumber\u001b[49m\u001b[38;5;241;43m.\u001b[39;49m\u001b[43mremove\u001b[49m\u001b[43m(\u001b[49m\u001b[38;5;241;43m1\u001b[39;49m\u001b[43m)\u001b[49m \u001b[38;5;66;03m#give error\u001b[39;00m\n\u001b[1;32m      3\u001b[0m     \u001b[38;5;28;01mreturn\u001b[39;00m number\n",
      "\u001b[0;31mKeyError\u001b[0m: 1"
     ]
    }
   ],
   "source": [
    "def remove_element(number):\n",
    "    number.remove(1) #give error\n",
    "    return number\n",
    "print(remove_element({2,3,4,5,6}))"
   ]
  },
  {
   "cell_type": "code",
   "execution_count": 15,
   "id": "609d8c9d-94d4-4870-92a0-3e6fb99b7f84",
   "metadata": {},
   "outputs": [
    {
     "name": "stdout",
     "output_type": "stream",
     "text": [
      "{2, 3, 4, 5, 6}\n"
     ]
    }
   ],
   "source": [
    "def discard_element(number):\n",
    "    number.discard(1) #doesnot give error if value doesnot exists\n",
    "    return number\n",
    "print(discard_element({2,3,4,5,6}))"
   ]
  },
  {
   "cell_type": "code",
   "execution_count": 18,
   "id": "57103542-1539-4eb7-85dd-0ba89e287c5a",
   "metadata": {},
   "outputs": [
    {
     "name": "stdout",
     "output_type": "stream",
     "text": [
      "{3, 4, 5, 6}\n"
     ]
    }
   ],
   "source": [
    "#6.Pop a random element from a set.\n",
    "\n",
    "def pop_element(num):\n",
    "    num.pop()\n",
    "    return num\n",
    "print(pop_element({2,3,4,5,6}))"
   ]
  },
  {
   "cell_type": "code",
   "execution_count": 21,
   "id": "2dff86f7-09a3-4567-9149-92f7ce6abbc8",
   "metadata": {},
   "outputs": [
    {
     "name": "stdout",
     "output_type": "stream",
     "text": [
      "exists in set\n",
      "None\n"
     ]
    }
   ],
   "source": [
    "#7.Check if an element exists in a set.\n",
    "\n",
    "def check_element(num,num_to_check):\n",
    "    \n",
    "    if num_to_check in num:\n",
    "        print(\"exists in set\")\n",
    "    else:\n",
    "        print(\"doenot exists in a set\")\n",
    "\n",
    "print(check_element({2,3,4,5,6},5))"
   ]
  },
  {
   "cell_type": "code",
   "execution_count": 25,
   "id": "99378863-c253-4628-a029-8cf32319634d",
   "metadata": {},
   "outputs": [
    {
     "name": "stdout",
     "output_type": "stream",
     "text": [
      "[1, 6, 7, 8, 10]\n"
     ]
    }
   ],
   "source": [
    "#8.Convert a list to a set to remove duplicates.\n",
    "\n",
    "def remove_duplicate(n):\n",
    "    empty_set=list(n)\n",
    "    for i in n:\n",
    "        if i not in empty_set:\n",
    "            empty_set.append(i)\n",
    "    return empty_set\n",
    "\n",
    "print(remove_duplicate({1,6,7,8,1,6,7,8,10}))"
   ]
  },
  {
   "cell_type": "code",
   "execution_count": 26,
   "id": "611dcd37-b36d-4c7c-8bef-808c52050cb2",
   "metadata": {},
   "outputs": [
    {
     "name": "stdout",
     "output_type": "stream",
     "text": [
      "[8, 9, 77, 22]\n"
     ]
    }
   ],
   "source": [
    "#9.Convert a set to a list.\n",
    "\n",
    "def convert_set_list(new):\n",
    "    return list(new)\n",
    "print(convert_set_list({77,8,9,22}))"
   ]
  },
  {
   "cell_type": "code",
   "execution_count": null,
   "id": "fa9e3c49-ebfe-44bf-9970-478bba0d70e6",
   "metadata": {},
   "outputs": [],
   "source": []
  }
 ],
 "metadata": {
  "kernelspec": {
   "display_name": "Python 3 (ipykernel)",
   "language": "python",
   "name": "python3"
  },
  "language_info": {
   "codemirror_mode": {
    "name": "ipython",
    "version": 3
   },
   "file_extension": ".py",
   "mimetype": "text/x-python",
   "name": "python",
   "nbconvert_exporter": "python",
   "pygments_lexer": "ipython3",
   "version": "3.13.1"
  }
 },
 "nbformat": 4,
 "nbformat_minor": 5
}
