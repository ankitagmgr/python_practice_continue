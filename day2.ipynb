{
 "cells": [
  {
   "cell_type": "code",
   "execution_count": null,
   "id": "799c4940-43bd-4dc6-9bc5-9744e02d1745",
   "metadata": {},
   "outputs": [
    {
     "name": "stdout",
     "output_type": "stream",
     "text": [
      "[1, 2, 3, 4, 5]\n"
     ]
    }
   ],
   "source": [
    "#1.Create a list and print it\n",
    "\n",
    "def new_list(lst):\n",
    "    return lst\n",
    "    \n",
    "print(new_list([1,2,3,4,5]))"
   ]
  },
  {
   "cell_type": "code",
   "execution_count": null,
   "id": "436b6016-af20-4068-a980-0d9771415e95",
   "metadata": {},
   "outputs": [
    {
     "name": "stdout",
     "output_type": "stream",
     "text": [
      "7\n"
     ]
    }
   ],
   "source": [
    "#2.Find the length of a list\n",
    "\n",
    "def list_length(lst):\n",
    "    return len(lst)\n",
    "print(list_length([1,2,3,4,5,67,7]))"
   ]
  },
  {
   "cell_type": "code",
   "execution_count": null,
   "id": "09025cbc-0447-469a-aa70-7d563bedb74a",
   "metadata": {},
   "outputs": [
    {
     "name": "stdout",
     "output_type": "stream",
     "text": [
      "1\n"
     ]
    }
   ],
   "source": [
    "#3. Access individual elements in a list using indexing.\n",
    "\n",
    "def access_index(lst):\n",
    "    return lst[0]\n",
    "print(access_index([1,2,3,4,5]))"
   ]
  },
  {
   "cell_type": "code",
   "execution_count": null,
   "id": "7886940e-e28e-4393-a866-db0808a68d67",
   "metadata": {},
   "outputs": [
    {
     "name": "stdout",
     "output_type": "stream",
     "text": [
      "[1, 6, 8, 89]\n"
     ]
    }
   ],
   "source": [
    "#4.Slice a list to extract a sublist.\n",
    "\n",
    "def extract_sublist(lst):\n",
    "    return lst[0:4]\n",
    "print(extract_sublist([1,6,8,89,44,5,66]))"
   ]
  },
  {
   "cell_type": "code",
   "execution_count": null,
   "id": "b936d343-22ca-4a89-987c-be7a7400f12a",
   "metadata": {},
   "outputs": [
    {
     "name": "stdout",
     "output_type": "stream",
     "text": [
      "[1, 2, 34, 5]\n"
     ]
    }
   ],
   "source": [
    "#5.Append an element to a list.\n",
    "\n",
    "def append_element(lst):\n",
    "    lst.append(5)\n",
    "    return lst\n",
    "\n",
    "print(append_element([1,2,34]))"
   ]
  },
  {
   "cell_type": "code",
   "execution_count": null,
   "id": "510bd862-68ba-4175-b49c-538fd93e8b85",
   "metadata": {},
   "outputs": [
    {
     "name": "stdout",
     "output_type": "stream",
     "text": [
      "['grapes', 'apple', 'mango', 'orange']\n"
     ]
    }
   ],
   "source": [
    "#6.Insert an element at a specific index in a list.\n",
    "\n",
    "def insert_element(list1):\n",
    "    list1.insert(0,\"grapes\")\n",
    "    return list1\n",
    "\n",
    "print(insert_element([\"apple\",\"mango\",\"orange\"]))"
   ]
  },
  {
   "cell_type": "code",
   "execution_count": null,
   "id": "6aab1601-067a-4be4-b5a7-68131a3b3d3d",
   "metadata": {},
   "outputs": [
    {
     "name": "stdout",
     "output_type": "stream",
     "text": [
      "['ball', 'cricket']\n"
     ]
    }
   ],
   "source": [
    "#7. Remove an element from a list by value.\n",
    "\n",
    "def remove_element(lst):\n",
    "    lst.remove(\"bat\")\n",
    "    return lst\n",
    "\n",
    "print(remove_element([\"bat\",\"ball\",\"cricket\"]))"
   ]
  },
  {
   "cell_type": "code",
   "execution_count": null,
   "id": "c7c58590-14da-496c-8de3-56d501fb9558",
   "metadata": {},
   "outputs": [
    {
     "name": "stdout",
     "output_type": "stream",
     "text": [
      "['bat', 'ball']\n"
     ]
    }
   ],
   "source": [
    "#8. Remove an element from a list by index.\n",
    "\n",
    "def remove_element_index(lst):\n",
    "    lst.pop(2)\n",
    "    return lst\n",
    "\n",
    "print(remove_element_index([\"bat\",\"ball\",\"cricket\"]))"
   ]
  },
  {
   "cell_type": "code",
   "execution_count": null,
   "id": "3b51c27c-53e8-436d-9b49-785029e52436",
   "metadata": {},
   "outputs": [
    {
     "name": "stdout",
     "output_type": "stream",
     "text": [
      "1\n"
     ]
    }
   ],
   "source": [
    "#9.Find the index of an element in a list.\n",
    "\n",
    "def find_element_index(lst,element):\n",
    "    if element in lst:\n",
    "        return lst.index(element)\n",
    "    else:\n",
    "        return -1\n",
    "\n",
    "print(find_element_index([\"bat\",\"ball\",\"cricket\"],\"ball\"))"
   ]
  },
  {
   "cell_type": "code",
   "execution_count": null,
   "id": "4046ad4a-b0a4-44f7-bcc7-5241686aab35",
   "metadata": {},
   "outputs": [
    {
     "name": "stdout",
     "output_type": "stream",
     "text": [
      "3\n"
     ]
    }
   ],
   "source": [
    "#10. Count occurrences of an element in a list.\n",
    "\n",
    "def count_occurrence(list2):\n",
    "    return list2.count(5)\n",
    "\n",
    "print(count_occurrence([1,2,4,5,77,89,5,6,5]))\n"
   ]
  },
  {
   "cell_type": "code",
   "execution_count": null,
   "id": "f3af2910-b8f4-4316-84b7-156122df6c3c",
   "metadata": {},
   "outputs": [
    {
     "name": "stdout",
     "output_type": "stream",
     "text": [
      "[5, 4, 3, 2, 1]\n"
     ]
    }
   ],
   "source": [
    "#11. Reverse a list.\n",
    "\n",
    "def reverse_list(lst):\n",
    "    return lst[::-1]\n",
    "print(reverse_list([1,2,3,4,5]))"
   ]
  },
  {
   "cell_type": "code",
   "execution_count": null,
   "id": "d0df0d77-b956-4409-b588-be6bc883b8fe",
   "metadata": {},
   "outputs": [
    {
     "name": "stdout",
     "output_type": "stream",
     "text": [
      "[2, 3, 3, 7, 21, 46]\n",
      "[46, 21, 7, 3, 3, 2]\n"
     ]
    }
   ],
   "source": [
    "#12. Sort a list in ascending and descending order.\n",
    "def ascend_descend(lst,reverse=False):\n",
    "    lst.sort(reverse=reverse)\n",
    "    return lst\n",
    "\n",
    "print(ascend_descend([2,3,46,7,21,3]))\n",
    "print(ascend_descend([2,3,46,7,21,3],reverse=True))"
   ]
  },
  {
   "cell_type": "code",
   "execution_count": null,
   "id": "b99f96d4-20ee-45d6-87e4-2ec64cb0ba1e",
   "metadata": {},
   "outputs": [
    {
     "name": "stdout",
     "output_type": "stream",
     "text": [
      "(889, 7)\n"
     ]
    }
   ],
   "source": [
    "#13.Find the maximum and minimum elements in a list.\n",
    "\n",
    "def max_min(lst):\n",
    "    return max(lst),min(lst)\n",
    "print(max_min([22,456,7,889,345,563]))"
   ]
  },
  {
   "cell_type": "code",
   "execution_count": null,
   "id": "62a34ff3-44c6-41bd-ae80-69b209bb30aa",
   "metadata": {},
   "outputs": [
    {
     "name": "stdout",
     "output_type": "stream",
     "text": [
      "False\n"
     ]
    }
   ],
   "source": [
    "#14.Check if an element exists in a list.\n",
    "\n",
    "def check_element(fruits,element):\n",
    "    if element in fruits:\n",
    "        return True\n",
    "    else:\n",
    "        return False\n",
    "\n",
    "print(check_element([\"apple\",\"orange\",\"grapes\",\"banana\"],\"mango\"))"
   ]
  },
  {
   "cell_type": "code",
   "execution_count": null,
   "id": "3a59c853-ae13-435d-9427-edc3df464391",
   "metadata": {},
   "outputs": [],
   "source": [
    "#15.Concatenate two lists.\n",
    "\n",
    "def concat_lists(list1,list2):\n",
    "    return list1+list2 # '+' operator "
   ]
  },
  {
   "cell_type": "code",
   "execution_count": null,
   "id": "903eba8c-2622-4818-8b2e-802133a70940",
   "metadata": {},
   "outputs": [],
   "source": [
    "return a new list but 'extend' modifies the original list\n",
    "print(concat_lists([1,2,9,3],[8,5,92]))\n",
    "\n",
    "#16. Remove duplicate elements from a list.\n",
    "\n",
    "def remove_duplicate(lst):\n",
    "    new_list=[]\n",
    "    for i in lst:\n",
    "        if i not in new_list:\n",
    "            new_list.append(i)\n",
    "    print(new_list)\n",
    "print(remove_duplicate([2,3,4,4,5,7,8,8,89,1,2,3]))"
   ]
  },
  {
   "cell_type": "code",
   "execution_count": null,
   "id": "f84dd126-e60b-4f84-9576-2d52f9ec2b7c",
   "metadata": {},
   "outputs": [
    {
     "data": {
      "text/plain": [
       "34"
      ]
     },
     "execution_count": 45,
     "metadata": {},
     "output_type": "execute_result"
    }
   ],
   "source": [
    "#17. Find the second largest number in a list.\n",
    "\n",
    "def second_largest(lst):\n",
    "    lst.sort()\n",
    "    return lst[-2]\n",
    "\n",
    "second_largest([22,34,5,12,67])"
   ]
  },
  {
   "cell_type": "code",
   "execution_count": null,
   "id": "eca887f3-7aa6-4f95-88ec-53b98b1eab64",
   "metadata": {},
   "outputs": [
    {
     "data": {
      "text/plain": [
       "[9, 2]"
      ]
     },
     "execution_count": 49,
     "metadata": {},
     "output_type": "execute_result"
    }
   ],
   "source": [
    "#18.Find the intersection of two lists.\n",
    "\n",
    "def intersection_list(list1,list2):\n",
    "    return list(set(list1)&set(list2))\n",
    "intersection_list([1,9,2,3],[8,2,9,5,92])"
   ]
  },
  {
   "cell_type": "code",
   "execution_count": null,
   "id": "b43bf6d9-4122-4cb3-af82-6f1a919e0756",
   "metadata": {},
   "outputs": [
    {
     "data": {
      "text/plain": [
       "[1, 2, 3, 5, 8, 9, 92]"
      ]
     },
     "execution_count": 51,
     "metadata": {},
     "output_type": "execute_result"
    }
   ],
   "source": [
    "#19.Find the union of two lists.\n",
    "\n",
    "def union_list(list1,list2):\n",
    "    return list(set(list1)|set(list2))\n",
    "\n",
    "union_list([1,9,2,3],[8,2,9,5,92])"
   ]
  },
  {
   "cell_type": "code",
   "execution_count": null,
   "id": "33a24d97-dc74-41a0-af81-a3e58a5aceeb",
   "metadata": {},
   "outputs": [
    {
     "name": "stdout",
     "output_type": "stream",
     "text": [
      "[1, 3, 5, 7, 9]\n"
     ]
    }
   ],
   "source": [
    "#20.Remove all even numbers from a list.\n",
    "\n",
    "def remove_even(lst):\n",
    "    new_list=[]\n",
    "    for i in lst:\n",
    "        if i%2!=0:\n",
    "            new_list.append(i)\n",
    "    return new_list\n",
    "\n",
    "print(remove_even([1,2,3,4,5,6,7,8,9,10]))"
   ]
  },
  {
   "cell_type": "code",
   "execution_count": null,
   "id": "c8de8eeb-ff2c-4d62-9d0e-4409bcb0e32d",
   "metadata": {},
   "outputs": [
    {
     "name": "stdout",
     "output_type": "stream",
     "text": [
      "[1, 2, 3, 4, 5]\n"
     ]
    }
   ],
   "source": [
    "#21.Flatten a nested list. [1, [2, [3, 4]], 5]==>[1,2,3,4,5]\n",
    "\n",
    "def flatten_list(lst):\n",
    "    new_lst=[]\n",
    "    for i in lst:\n",
    "        if isinstance(i,list): #[2,[3,4]]\n",
    "           new_lst.extend(flatten_list(i)) \n",
    "           \n",
    "        else:\n",
    "            new_lst.append(i)#[1]\n",
    "    return new_lst\n",
    "    \n",
    "print(flatten_list([1, [2, [3, 4]], 5]))"
   ]
  },
  {
   "cell_type": "code",
   "execution_count": null,
   "id": "7cbc5e45-b075-4017-806e-52ea3f0b3d2d",
   "metadata": {},
   "outputs": [
    {
     "name": "stdout",
     "output_type": "stream",
     "text": [
      "[1, 3, 6, 10, 15]\n"
     ]
    }
   ],
   "source": [
    "#22. Find the cumulative sum of elements in a list.\n",
    "\n",
    "def cumulative_sum(lst):\n",
    "    result = []\n",
    "    total = 0\n",
    "    for num in lst:\n",
    "        total += num\n",
    "        result.append(total)\n",
    "    return result\n",
    "\n",
    "\n",
    "lst = [1, 2, 3, 4, 5]\n",
    "print(cumulative_sum(lst))  "
   ]
  },
  {
   "cell_type": "code",
   "execution_count": null,
   "id": "027fdcf4-c99b-4dcf-80bc-3f7bc2fc4fcc",
   "metadata": {},
   "outputs": [
    {
     "name": "stdout",
     "output_type": "stream",
     "text": [
      "3\n"
     ]
    }
   ],
   "source": [
    "#23. Find the most frequent element in a list.\n",
    "\n",
    "def most_frequent(lst):\n",
    "    freq={}\n",
    "    for num in lst:\n",
    "        freq[num]=freq.get(num,0)+1\n",
    "    return max(freq,key=freq.get)\n",
    "print(most_frequent([1, 3, 2, 3, 4, 3, 5, 3, 2, 1]))"
   ]
  },
  {
   "cell_type": "code",
   "execution_count": null,
   "id": "e61bb406-1e56-4039-9f69-b3ef383c877b",
   "metadata": {},
   "outputs": [
    {
     "name": "stdout",
     "output_type": "stream",
     "text": [
      "[1, 2, 3, 4, 11, 5]\n"
     ]
    }
   ],
   "source": [
    "#24. Convert a list of strings to a list of integers.\n",
    "\n",
    "def convert_integer(list_string):\n",
    "    empty_list=[]\n",
    "    for i in list_string:\n",
    "        if isinstance(i,str):\n",
    "            empty_list.append(int(i))\n",
    "        else:\n",
    "            empty_list.append(i)\n",
    "    return empty_list\n",
    "\n",
    "print(convert_integer([\"1\",\"2\",\"3\",\"4\",11,5]))"
   ]
  },
  {
   "cell_type": "code",
   "execution_count": null,
   "id": "cd085840-2f47-4b2d-b9ac-90dd2b01e19e",
   "metadata": {},
   "outputs": [],
   "source": [
    "#25. Convert a list of tuples into a dictionary.\n",
    "\n",
    "def convert_to_dict(lst):\n",
    "    new_dict={}\n",
    "    for key,value in lst:\n",
    "        new_dict[key]=value #if it contains duplicate it takes last occurance\n",
    "    return new_dict\n",
    "print(convert_to_dict([(\"a\", 1), (\"b\", 2), (\"a\", 3)]))"
   ]
  },
  {
   "cell_type": "code",
   "execution_count": null,
   "id": "4ac216aa",
   "metadata": {},
   "outputs": [],
   "source": [
    "#26.Check if a list is a palindrome.\n",
    "\n",
    "def check_palindrome(numbers):\n",
    "    return numbers[::]==numbers[::-1]\n",
    "\n",
    "print(check_palindrome([1,2,1]))"
   ]
  },
  {
   "cell_type": "code",
   "execution_count": null,
   "id": "d6446981",
   "metadata": {},
   "outputs": [],
   "source": [
    "#27. Implement a function that partitions a list into even and odd numbers.\n",
    "\n",
    "def partition_list(number):\n",
    "    even=[]\n",
    "    odd=[]\n",
    "    for num in number:\n",
    "        if num%2==0:\n",
    "            even.append(num)\n",
    "        else:\n",
    "            odd.append(num)\n",
    "    return even,odd\n",
    "\n",
    "print(partition_list([1,2,3,4,5,6,7,8,9,10]))"
   ]
  },
  {
   "cell_type": "code",
   "execution_count": null,
   "id": "52a778df",
   "metadata": {},
   "outputs": [],
   "source": [
    "#28.Find the difference between two lists (elements present in one list but not in the other).\n",
    "\n",
    "def difference_list(list1,list2):\n",
    "    return list(set(list1)-set(list2))\n",
    "print(difference_list([1,2,3,4],[2,4,6,7]))"
   ]
  },
  {
   "cell_type": "code",
   "execution_count": null,
   "id": "557017c4",
   "metadata": {},
   "outputs": [],
   "source": [
    "#29.Find the common elements in single lists.\n",
    "\n",
    "def common_element(lst):\n",
    "    empty=[]\n",
    "    for num in lst:\n",
    "        if lst.count(num)>1 and num not in empty :\n",
    "            empty.append(num)\n",
    "    return empty\n",
    "\n",
    "print(common_element([1,2,3,34,5,6,6,7,8,8,81,2,1]))"
   ]
  },
  {
   "cell_type": "code",
   "execution_count": null,
   "id": "7c423e3a",
   "metadata": {},
   "outputs": [],
   "source": [
    "#30.Find the common elements in multiple lists.\n",
    "def common_elements(*lists):\n",
    "    return list(set(lists[0]).intersection(*lists[1:]))\n",
    "    \n",
    "list1 = [1, 2, 3, 4, 5]\n",
    "list2 = [3, 4, 5, 6, 7]\n",
    "list3 = [4, 5, 8, 9]\n",
    "\n",
    "print(common_elements(list1, list2, list3))\n"
   ]
  },
  {
   "cell_type": "code",
   "execution_count": null,
   "id": "905316a0",
   "metadata": {},
   "outputs": [],
   "source": [
    "def common_elements(*lists):\n",
    "    result = set(lists[0])\n",
    "    for lst in lists[1:]:\n",
    "        result.intersection_update(lst)\n",
    "    return list(result)\n",
    "\n",
    "list1 = [1, 2, 3, 4, 5]\n",
    "list2 = [3, 4, 5, 6, 7]\n",
    "list3 = [4, 5, 8, 9]\n",
    "\n",
    "print(common_elements(list1, list2, list3))"
   ]
  },
  {
   "cell_type": "code",
   "execution_count": null,
   "id": "88b356b9",
   "metadata": {},
   "outputs": [],
   "source": [
    "#31.Implement a function to check if a list is sorted (ascending or descending).\n",
    "\n",
    "def is_sorted(lst):\n",
    "    if lst == sorted(lst):\n",
    "        return \"Ascending\"\n",
    "    elif lst == sorted(lst, reverse=True):\n",
    "        return \"Descending\"\n",
    "    else:\n",
    "        return \"Unsorted\"\n",
    "\n",
    "print(is_sorted([1, 2, 3, 4, 5]))  # Ascending\n",
    "print(is_sorted([5, 4, 3, 2, 1]))  # Descending\n",
    "print(is_sorted([1, 3, 2, 4, 5]))  # Unsorted\n"
   ]
  },
  {
   "cell_type": "code",
   "execution_count": null,
   "id": "de0ff16c",
   "metadata": {},
   "outputs": [],
   "source": [
    "#32.Shuffle the elements of a list randomly.\n",
    "\n",
    "import random\n",
    "def shuffle_element(fruits):\n",
    "    random.shuffle(fruits)\n",
    "    return fruits\n",
    "\n",
    "print(shuffle_element([\"banana\",\"kiwi\",\"orange\"]))"
   ]
  },
  {
   "cell_type": "code",
   "execution_count": null,
   "id": "641f9fa7",
   "metadata": {},
   "outputs": [],
   "source": [
    "#33. Remove None values from list.\n",
    "\n",
    "def remove_none(lst):\n",
    "    result=[]\n",
    "    for i in lst:\n",
    "        if i is not None:\n",
    "            result.append(i)\n",
    "    return result\n",
    "print(remove_none([1, None, 2, None, 3, 4, None, 5]))"
   ]
  },
  {
   "cell_type": "code",
   "execution_count": null,
   "id": "8382b954",
   "metadata": {},
   "outputs": [],
   "source": [
    "#34.Remove consecutive duplicates from a list.\n",
    "\n",
    "def remove_consecutive_duplicates(lst):\n",
    "    result=[lst[0]] #first always included\n",
    "    for i in range(1,len(lst)):\n",
    "        if lst[i]!=lst[i-1]:\n",
    "            result.append(lst[i])\n",
    "    return result\n",
    "print(remove_consecutive_duplicates([1, 1, 2, 2, 3, 3, 3, 4, 5, 5, 6, 6,1,1,2,3,2]))"
   ]
  }
 ],
 "metadata": {
  "kernelspec": {
   "display_name": "Python 3 (ipykernel)",
   "language": "python",
   "name": "python3"
  },
  "language_info": {
   "codemirror_mode": {
    "name": "ipython",
    "version": 3
   },
   "file_extension": ".py",
   "mimetype": "text/x-python",
   "name": "python",
   "nbconvert_exporter": "python",
   "pygments_lexer": "ipython3",
   "version": "3.13.1"
  }
 },
 "nbformat": 4,
 "nbformat_minor": 5
}
